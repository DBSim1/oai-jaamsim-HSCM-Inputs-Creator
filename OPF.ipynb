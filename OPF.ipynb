{
 "cells": [
  {
   "cell_type": "code",
   "execution_count": 2,
   "metadata": {},
   "outputs": [
    {
     "ename": "AttributeError",
     "evalue": "'NoneType' object has no attribute 'read_config'",
     "output_type": "error",
     "traceback": [
      "\u001b[1;31m---------------------------------------------------------------------------\u001b[0m",
      "\u001b[1;31mAttributeError\u001b[0m                            Traceback (most recent call last)",
      "Cell \u001b[1;32mIn[2], line 11\u001b[0m\n\u001b[0;32m      7\u001b[0m \u001b[38;5;66;03m#test65.create_config\u001b[39;00m\n\u001b[0;32m      8\u001b[0m \u001b[38;5;66;03m#cconfig_data=test65.read_config\u001b[39;00m\n\u001b[0;32m     10\u001b[0m x\u001b[38;5;241m=\u001b[39mtest65\u001b[38;5;241m.\u001b[39mcreate_config()\n\u001b[1;32m---> 11\u001b[0m config_data\u001b[38;5;241m=\u001b[39m\u001b[43mx\u001b[49m\u001b[38;5;241;43m.\u001b[39;49m\u001b[43mread_config\u001b[49m()\n\u001b[0;32m     12\u001b[0m \u001b[38;5;28mprint\u001b[39m(\u001b[38;5;124m\"\u001b[39m\u001b[38;5;124mtest:\u001b[39m\u001b[38;5;124m\"\u001b[39m, config_data[\u001b[38;5;124m'\u001b[39m\u001b[38;5;124muser\u001b[39m\u001b[38;5;124m'\u001b[39m])\n\u001b[0;32m     13\u001b[0m \u001b[38;5;66;03m#print(\"test:\",config_data)\u001b[39;00m\n",
      "\u001b[1;31mAttributeError\u001b[0m: 'NoneType' object has no attribute 'read_config'"
     ]
    }
   ],
   "source": [
    "from snowflake.connector.pandas_tools import write_pandas\n",
    "import snowflake.connector\n",
    "import pandas as pd\n",
    "import test65\n",
    "import json\n",
    "\n",
    "#test65.create_config\n",
    "#cconfig_data=test65.read_config\n",
    "\n",
    "x=test65.create_config()\n",
    "config_data=x.read_config()\n",
    "print(\"test:\", config_data['user'])\n",
    "#print(\"test:\",config_data)\n",
    "\n",
    "\n",
    "'''snowflake.connector._connection = snowflake.connector.connect(\n",
    "                    #user=cconfig_data['user'],\n",
    "                    user='matthew.clarke@fortescue.com',\n",
    "                    account='wn74261.ap-southeast-2',\n",
    "                    warehouse='WH_EDW_SELFSERVICE',\n",
    "                    #password=config.password,\n",
    "                    authenticator='externalbrowser',\n",
    "                    role='EDW_MATTHEW.CLARKE',\n",
    "                    database='AA_OPERATIONS_MANAGEMENT',\n",
    "                    schema='SELFSERVICE',\n",
    ")\n",
    "\n",
    "def get_df(cur, sql):\n",
    "    cur.execute(sql)  # executes the sql\n",
    "    return cur.fetch_pandas_all()  # returns the pandas df\n",
    "\n",
    "cur = snowflake.connector._connection.cursor()\n",
    "sql = \"select top 10 * from aa_operations_hiveanalytics.selfservice.iops_vw_OPF_TONNES_WTD\"\n",
    "cur.execute(sql)\n",
    "df = cur.fetch_pandas_all()\n",
    "print(df.head)'''"
   ]
  },
  {
   "cell_type": "code",
   "execution_count": 25,
   "metadata": {},
   "outputs": [
    {
     "name": "stdout",
     "output_type": "stream",
     "text": [
      "config loaded\n",
      "{'user': 'matthew.clarke@fortescue.com', 'account': 'wn74261.ap-southeast-2', 'warehouse': 'WH_EDW_SELFSERVICE', 'authenticator': 'externalbrowser', 'role': 'EDW_MATTHEW.CLARKE', 'database': 'AA_OPERATIONS_MANAGEMENT', 'schema': 'SELFSERVICE'}\n"
     ]
    }
   ],
   "source": [
    "import json\n",
    "\n",
    "config = None\n",
    "with open (\"config.json\") as f:\n",
    "    config = json.load(f)\n",
    "    print(\"config loaded\")\n",
    "\n",
    "var = config['General']\n",
    "print(var)"
   ]
  },
  {
   "cell_type": "code",
   "execution_count": null,
   "metadata": {},
   "outputs": [],
   "source": []
  }
 ],
 "metadata": {
  "kernelspec": {
   "display_name": "Python 3",
   "language": "python",
   "name": "python3"
  },
  "language_info": {
   "codemirror_mode": {
    "name": "ipython",
    "version": 3
   },
   "file_extension": ".py",
   "mimetype": "text/x-python",
   "name": "python",
   "nbconvert_exporter": "python",
   "pygments_lexer": "ipython3",
   "version": "3.11.9"
  }
 },
 "nbformat": 4,
 "nbformat_minor": 2
}
